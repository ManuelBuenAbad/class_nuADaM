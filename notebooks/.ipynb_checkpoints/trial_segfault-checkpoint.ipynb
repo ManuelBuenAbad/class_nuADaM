{
 "cells": [
  {
   "cell_type": "code",
   "execution_count": 1,
   "id": "7a03af4c-6cff-4cf2-b0d8-e702775ce756",
   "metadata": {
    "tags": []
   },
   "outputs": [],
   "source": [
    "import numpy as np"
   ]
  },
  {
   "cell_type": "code",
   "execution_count": 2,
   "id": "0244aa99-b3a5-4f75-b632-11b3c01da8d4",
   "metadata": {
    "tags": []
   },
   "outputs": [],
   "source": [
    "# import classy module\n",
    "from classy import Class"
   ]
  },
  {
   "cell_type": "code",
   "execution_count": 3,
   "id": "1d3101e1-115d-43fc-9e6a-7ecb44b1fc44",
   "metadata": {
    "tags": []
   },
   "outputs": [],
   "source": [
    "# Lambda CDM\n",
    "# common_settings = {'omega_b':0.0223828,'omega_cdm':0.1201075,\n",
    "#                    # '100*theta_s':1.04179712,\n",
    "#                    'h':0.67,\n",
    "#                    'A_s':2.100549e-09,'n_s':0.9660499,'tau_reio':0.05430842,\n",
    "#                    'N_ur':2.046,'N_ncdm':1,'m_ncdm':0.06,'T_ncdm':0.7137658555036082,'YHe':'BBN',\n",
    "#                    'output':'tCl,pCl,lCl,mPk','lensing':'yes','P_k_max_1/Mpc':20.0,'z_max_pk':3}\n",
    "\n",
    "# Fail-point #1:\n",
    "# common_settings = {'omega_b':0.02319823,\n",
    "#                    'omega_cdm':0.1203928,\n",
    "#                    # '100*theta_s':1.04179712,\n",
    "#                    'h':0.7206896,\n",
    "#                    # 'A_s':2.100549e-09,\n",
    "#                    'ln10^{10}A_s':3.045734,\n",
    "#                    'n_s':0.9725777,\n",
    "#                    'tau_reio':0.05997182,\n",
    "#                    'N_ur':2.046,\n",
    "#                    'N_ncdm':1,\n",
    "#                    'm_ncdm':0.06,\n",
    "#                    'T_ncdm':0.7137658555036082,\n",
    "#                    'YHe':'BBN',\n",
    "#                    'output':'tCl,pCl,lCl,mPk',\n",
    "#                    'lensing':'yes',\n",
    "#                    'P_k_max_1/Mpc':20.0,\n",
    "#                    'z_max_pk':3}\n",
    "\n",
    "# Fail-point #2\n",
    "common_settings = {'omega_b':0.02300579,\n",
    "                   'omega_cdm':0.1243789,\n",
    "                   # '100*theta_s':1.04179712,\n",
    "                   '100*theta_s':1.056498,\n",
    "                   # 'h':0.7139304,\n",
    "                   # 'A_s':2.100549e-09,\n",
    "                   'ln10^{10}A_s':3.024349,\n",
    "                   'n_s':0.971559,\n",
    "                   'tau_reio':0.05018996,\n",
    "                   'N_ur':2.046,\n",
    "                   'N_ncdm':1,\n",
    "                   'm_ncdm':0.06,\n",
    "                   'T_ncdm':0.7137658555036082,\n",
    "                   'YHe':'BBN',\n",
    "                   'output':'tCl,pCl,lCl,mPk',\n",
    "                   'lensing':'yes',\n",
    "                   'P_k_max_1/Mpc':20.0,\n",
    "                   'z_max_pk':3,\n",
    "                   'background_verbose':3,\n",
    "                   'thermodynamics_verbose':3,\n",
    "                   'input_verbose':5}"
   ]
  },
  {
   "cell_type": "code",
   "execution_count": null,
   "id": "84dc0ed2-4e22-4d36-ad73-7e6a6fc80b5a",
   "metadata": {
    "tags": []
   },
   "outputs": [],
   "source": [
    "LambdaCDM = Class()\n",
    "LambdaCDM.set(common_settings)\n",
    "%time\n",
    "LambdaCDM.compute()"
   ]
  },
  {
   "cell_type": "code",
   "execution_count": 1,
   "id": "39d18f55-7476-4eef-b72f-d08d58d8b02c",
   "metadata": {},
   "outputs": [
    {
     "ename": "NameError",
     "evalue": "name 'common_settings' is not defined",
     "output_type": "error",
     "traceback": [
      "\u001b[0;31m---------------------------------------------------------------------------\u001b[0m",
      "\u001b[0;31mNameError\u001b[0m                                 Traceback (most recent call last)",
      "\u001b[0;32m<ipython-input-1-65ec2dba464e>\u001b[0m in \u001b[0;36m<module>\u001b[0;34m\u001b[0m\n\u001b[1;32m     44\u001b[0m                     }\n\u001b[1;32m     45\u001b[0m \u001b[0;34m\u001b[0m\u001b[0m\n\u001b[0;32m---> 46\u001b[0;31m \u001b[0madam_settings\u001b[0m \u001b[0;34m=\u001b[0m \u001b[0mdict\u001b[0m\u001b[0;34m(\u001b[0m\u001b[0mcommon_settings\u001b[0m\u001b[0;34m,\u001b[0m \u001b[0;34m**\u001b[0m\u001b[0mnew_adam_settings\u001b[0m\u001b[0;34m)\u001b[0m\u001b[0;34m\u001b[0m\u001b[0;34m\u001b[0m\u001b[0m\n\u001b[0m",
      "\u001b[0;31mNameError\u001b[0m: name 'common_settings' is not defined"
     ]
    }
   ],
   "source": [
    "# nuADAM\n",
    "# adam_settings = {'omega_b':0.0223828,\n",
    "#                  # 'omega_dm_tot':0.1201075,\n",
    "#                  'omega_cdm':0.1101075,\n",
    "#                  # '100*theta_s':1.04179712,\n",
    "#                  'h':0.67,\n",
    "#                  'A_s':2.100549e-09,'n_s':0.9660499,'tau_reio':0.05430842,\n",
    "#                  'N_ur':2.046,'N_ncdm':1,'m_ncdm':0.06,'T_ncdm':0.7137658555036082,'YHe':'BBN',\n",
    "#                  'output':'tCl,pCl,lCl,mPk','lensing':'yes','P_k_max_1/Mpc':20.0,'z_max_pk':3,\n",
    "#                  'YHe_twin':0.0,\n",
    "#                  'm_p_dark':1.,\n",
    "#                  'log10_alphafs_dark':-2.0,\n",
    "#                  'dof_extra_twin':10.5,\n",
    "#                  'log10_me_mp_dark_ratio':-3.,\n",
    "#                  'Delta_N_twin':0.5,\n",
    "#                  'r_all_twin':0.2,\n",
    "#                  'background_verbose':2,\n",
    "#                  'thermodynamics_verbose':2\n",
    "#                 }\n",
    "\n",
    "# Fail-point #1\n",
    "# new_adam_settings = {'YHe_twin':0.0,\n",
    "#                      'm_p_dark':1.,\n",
    "#                      'log10_alphafs_dark':-2.0,\n",
    "#                      'dof_extra_twin':10.5,\n",
    "#                      'log10_me_mp_dark_ratio':-0.8881274,\n",
    "#                      'Delta_N_twin':0.4432684,\n",
    "#                      'r_all_twin':0.03070921,\n",
    "#                      'background_verbose':2,\n",
    "#                      'thermodynamics_verbose':2\n",
    "#                     }\n",
    "\n",
    "# Fail-point #2\n",
    "new_adam_settings = {'YHe_twin':0.0,\n",
    "                     'm_p_dark':1.,\n",
    "                     'log10_alphafs_dark':-2.0,\n",
    "                     'dof_extra_twin':10.5,\n",
    "                     'log10_me_mp_dark_ratio':-2.318476,\n",
    "                     'Delta_N_twin':0.4978077,\n",
    "                     'r_all_twin':0.02857489,\n",
    "                     'background_verbose':3,\n",
    "                     'thermodynamics_verbose':3,\n",
    "                     'input_verbose':3\n",
    "                    }\n",
    "\n",
    "adam_settings = dict(common_settings, **new_adam_settings)"
   ]
  },
  {
   "cell_type": "code",
   "execution_count": 2,
   "id": "108b3792-fc96-4a85-99da-631a451c6e03",
   "metadata": {},
   "outputs": [
    {
     "ename": "NameError",
     "evalue": "name 'Class' is not defined",
     "output_type": "error",
     "traceback": [
      "\u001b[0;31m---------------------------------------------------------------------------\u001b[0m",
      "\u001b[0;31mNameError\u001b[0m                                 Traceback (most recent call last)",
      "\u001b[0;32m<ipython-input-2-e274b7c84566>\u001b[0m in \u001b[0;36m<module>\u001b[0;34m\u001b[0m\n\u001b[0;32m----> 1\u001b[0;31m \u001b[0mADAM\u001b[0m \u001b[0;34m=\u001b[0m \u001b[0mClass\u001b[0m\u001b[0;34m(\u001b[0m\u001b[0;34m)\u001b[0m\u001b[0;34m\u001b[0m\u001b[0;34m\u001b[0m\u001b[0m\n\u001b[0m\u001b[1;32m      2\u001b[0m \u001b[0mADAM\u001b[0m\u001b[0;34m.\u001b[0m\u001b[0mset\u001b[0m\u001b[0;34m(\u001b[0m\u001b[0madam_settings\u001b[0m\u001b[0;34m)\u001b[0m\u001b[0;34m\u001b[0m\u001b[0;34m\u001b[0m\u001b[0m\n\u001b[1;32m      3\u001b[0m \u001b[0mADAM\u001b[0m\u001b[0;34m.\u001b[0m\u001b[0mcompute\u001b[0m\u001b[0;34m(\u001b[0m\u001b[0;34m)\u001b[0m\u001b[0;34m\u001b[0m\u001b[0;34m\u001b[0m\u001b[0m\n",
      "\u001b[0;31mNameError\u001b[0m: name 'Class' is not defined"
     ]
    }
   ],
   "source": [
    "ADAM = Class()\n",
    "ADAM.set(adam_settings)\n",
    "ADAM.compute()"
   ]
  }
 ],
 "metadata": {
  "kernelspec": {
   "display_name": "Python 3",
   "language": "python",
   "name": "python3"
  },
  "language_info": {
   "codemirror_mode": {
    "name": "ipython",
    "version": 3
   },
   "file_extension": ".py",
   "mimetype": "text/x-python",
   "name": "python",
   "nbconvert_exporter": "python",
   "pygments_lexer": "ipython3",
   "version": "3.6.13"
  }
 },
 "nbformat": 4,
 "nbformat_minor": 5
}
